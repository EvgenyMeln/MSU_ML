{
  "nbformat": 4,
  "nbformat_minor": 0,
  "metadata": {
    "colab": {
      "provenance": []
    },
    "kernelspec": {
      "name": "python3",
      "display_name": "Python 3"
    },
    "language_info": {
      "name": "python"
    }
  },
  "cells": [
    {
      "cell_type": "markdown",
      "source": [
        "# 8.2. PCA\n",
        "\n",
        "На лекции вы узнали об одном из самых сильных и часто используемых методов понижения размерности - [методе главных компонент](https://colab.research.google.com/drive/1ldt1uUd8bJwiuUHrp2xmTKjELYVLcdzZ#scrollTo=mAiVLZc6zFCd) (Principal Components Analysis, PCA).\n",
        "\n",
        "В этом задании вам предстоит воспользоваться реализацией этого метода из стандартных библиотек. Мы предлагаем вам использовать класс [`sklearn.decomposition.PCA`](https://scikit-learn.org/stable/modules/generated/sklearn.decomposition.PCA.html).\n",
        "\n",
        "Ваша задача найти оптимальное количество компонент, которое нужно для максимизации качества решения задачи многоклассовой классификации на основе датасета `MNIST` при помощи **логистической регрессии**."
      ],
      "metadata": {
        "id": "YJJfqr2RhY3f"
      }
    },
    {
      "cell_type": "markdown",
      "source": [
        "Для решения задачи мы возьмём только 2000 первых картинок. Это количество оптимально с точки зрения времени решения задачи и возможностей алгоритма. Просим Вас не изменять это значение, поскольку это может привести к изменению ответа."
      ],
      "metadata": {
        "id": "ZpVXVHDPh6GC"
      }
    },
    {
      "cell_type": "code",
      "source": [
        "# JUST RUN THIS CELL\n",
        "from sklearn.datasets import fetch_openml\n",
        "import numpy as np\n",
        "import matplotlib.pyplot as plt\n",
        "np.random.seed(42)\n",
        "\n",
        "mnist = fetch_openml('mnist_784')\n",
        "\n",
        "X = mnist.data.to_numpy()\n",
        "y = mnist.target.to_numpy()\n",
        "\n",
        "X = X[:2000]\n",
        "y = y[:2000]\n",
        "\n",
        "plt.figure(figsize=(20,4))\n",
        "for index, (image, label) in enumerate(zip(X[0:5], y[0:5])):\n",
        " plt.subplot(1, 5, index + 1)\n",
        " plt.imshow(np.reshape(image, (28,28)), cmap=plt.cm.gray)\n",
        " plt.title('Training: %s\\n' % label, fontsize = 20)"
      ],
      "metadata": {
        "colab": {
          "base_uri": "https://localhost:8080/",
          "height": 283
        },
        "id": "Io7aSABuhjJa",
        "outputId": "9402e719-420c-4cfe-9101-a04e2a4c50a2"
      },
      "execution_count": null,
      "outputs": [
        {
          "output_type": "display_data",
          "data": {
            "text/plain": [
              "<Figure size 1440x288 with 5 Axes>"
            ],
            "image/png": "[encoded data removed]"
          },
          "metadata": {
            "needs_background": "light"
          }
        }
      ]
    },
    {
      "cell_type": "markdown",
      "source": [
        "Ваша задача - определить какая размерность PCA из `[1,3,5,10,15,20,30,40,50,60]` оптимальна для решения задачи классификации. Обязательно установите параметр max_iter=500 при создании объекта класса `sklearn.linear_model.LogisticRegression`.\n",
        "\n",
        "В тестовую выборку отправьте 30% объектов. В качестве random_state используйте число 42 везде, где это необходимо."
      ],
      "metadata": {
        "id": "hvfrczQUiaC9"
      }
    },
    {
      "cell_type": "code",
      "source": [
        "N_COMPONENTS = [1,3,5,10,15,20,30,40,50,60]"
      ],
      "metadata": {
        "id": "5deUxIOciTWQ"
      },
      "execution_count": null,
      "outputs": []
    },
    {
      "cell_type": "code",
      "source": [],
      "metadata": {
        "id": "jAJACi1ViyYK"
      },
      "execution_count": null,
      "outputs": []
    }
  ]
}