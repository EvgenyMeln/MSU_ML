{
  "nbformat": 4,
  "nbformat_minor": 0,
  "metadata": {
    "colab": {
      "provenance": []
    },
    "kernelspec": {
      "name": "python3",
      "display_name": "Python 3"
    },
    "language_info": {
      "name": "python"
    }
  },
  "cells": [
    {
      "cell_type": "markdown",
      "source": [
        "# 8.2. PCA\n",
        "\n",
        "На лекции вы узнали об одном из самых сильных и часто используемых методов понижения размерности - [методе главных компонент](https://colab.research.google.com/drive/1ldt1uUd8bJwiuUHrp2xmTKjELYVLcdzZ#scrollTo=mAiVLZc6zFCd) (Principal Components Analysis, PCA).\n",
        "\n",
        "В этом задании вам предстоит воспользоваться реализацией этого метода из стандартных библиотек. Мы предлагаем вам использовать класс [`sklearn.decomposition.PCA`](https://scikit-learn.org/stable/modules/generated/sklearn.decomposition.PCA.html).\n",
        "\n",
        "Ваша задача найти оптимальное количество компонент, которое нужно для максимизации качества решения задачи многоклассовой классификации на основе датасета `MNIST` при помощи **логистической регрессии**."
      ],
      "metadata": {
        "id": "YJJfqr2RhY3f"
      }
    },
    {
      "cell_type": "markdown",
      "source": [
        "Для решения задачи мы возьмём только 2000 первых картинок. Это количество оптимально с точки зрения времени решения задачи и возможностей алгоритма. Просим Вас не изменять это значение, поскольку это может привести к изменению ответа."
      ],
      "metadata": {
        "id": "ZpVXVHDPh6GC"
      }
    },
    {
      "cell_type": "code",
      "source": [
        "# JUST RUN THIS CELL\n",
        "from sklearn.datasets import fetch_openml\n",
        "import numpy as np\n",
        "import matplotlib.pyplot as plt\n",
        "np.random.seed(42)\n",
        "\n",
        "mnist = fetch_openml('mnist_784')\n",
        "\n",
        "X = mnist.data.to_numpy()\n",
        "y = mnist.target.to_numpy()\n",
        "\n",
        "X = X[:2000]\n",
        "y = y[:2000]\n",
        "\n",
        "plt.figure(figsize=(20,4))\n",
        "for index, (image, label) in enumerate(zip(X[0:5], y[0:5])):\n",
        " plt.subplot(1, 5, index + 1)\n",
        " plt.imshow(np.reshape(image, (28,28)), cmap=plt.cm.gray)\n",
        " plt.title('Training: %s\\n' % label, fontsize = 20)"
      ],
      "metadata": {
        "colab": {
          "base_uri": "https://localhost:8080/",
          "height": 390
        },
        "id": "Io7aSABuhjJa",
        "outputId": "1518853b-b434-47d7-e3a1-695c5c0751c5"
      },
      "execution_count": null,
      "outputs": [
        {
          "output_type": "display_data",
          "data": {
            "text/plain": [
              "<Figure size 2000x400 with 5 Axes>"
            ],
            "image/png": "[encoded data removed]"
          },
          "metadata": {}
        }
      ]
    },
    {
      "cell_type": "markdown",
      "source": [
        "Ваша задача - определить какая размерность PCA из `[1,3,5,10,15,20,30,40,50,60]` оптимальна для решения задачи классификации. Обязательно установите параметр max_iter=500 при создании объекта класса `sklearn.linear_model.LogisticRegression`.\n",
        "\n",
        "В тестовую выборку отправьте 30% объектов. В качестве random_state используйте число 42 везде, где это необходимо."
      ],
      "metadata": {
        "id": "hvfrczQUiaC9"
      }
    },
    {
      "cell_type": "code",
      "source": [
        "N_COMPONENTS = [1,3,5,10,15,20,30,40,50,60]"
      ],
      "metadata": {
        "id": "5deUxIOciTWQ"
      },
      "execution_count": null,
      "outputs": []
    },
    {
      "cell_type": "code",
      "source": [
        "from sklearn.metrics import accuracy_score\n",
        "from sklearn.model_selection import train_test_split\n",
        "from sklearn.decomposition import PCA\n",
        "from sklearn.preprocessing import StandardScaler\n",
        "from sklearn.linear_model import LogisticRegression\n",
        "\n",
        "X_train, X_test, y_train, y_test = train_test_split(X, y, test_size=0.3, shuffle=True, random_state=42)\n",
        "\n",
        "scaler = StandardScaler()\n",
        "X_train_scaled = scaler.fit_transform(X_train)\n",
        "X_test_scaled = scaler.transform(X_test)\n",
        "\n",
        "components_list = [1, 3, 5, 10, 15, 20, 30, 40, 50, 60]\n",
        "best_accuracy = 0\n",
        "best_n = None\n",
        "\n",
        "for n in components_list:\n",
        "    pca = PCA(n_components=n, random_state=42)\n",
        "    X_train_pca = pca.fit_transform(X_train_scaled)\n",
        "    X_test_pca = pca.transform(X_test_scaled)\n",
        "\n",
        "    clf = LogisticRegression(max_iter=500, random_state=42)\n",
        "    clf.fit(X_train_pca, y_train)\n",
        "    y_pred = clf.predict(X_test_pca)\n",
        "\n",
        "    acc = accuracy_score(y_test, y_pred)\n",
        "    print(f\"n_components = {n} --> Accuracy: {acc:.4f}\")\n",
        "\n"
      ],
      "metadata": {
        "id": "jAJACi1ViyYK",
        "outputId": "ad71bc27-a31f-4f8a-e333-cd55a75eb0bb",
        "colab": {
          "base_uri": "https://localhost:8080/"
        }
      },
      "execution_count": null,
      "outputs": [
        {
          "output_type": "stream",
          "name": "stdout",
          "text": [
            "n_components = 1 --> Accuracy: 0.2967\n",
            "n_components = 3 --> Accuracy: 0.4867\n",
            "n_components = 5 --> Accuracy: 0.6717\n",
            "n_components = 10 --> Accuracy: 0.7817\n",
            "n_components = 15 --> Accuracy: 0.8550\n",
            "n_components = 20 --> Accuracy: 0.8567\n",
            "n_components = 30 --> Accuracy: 0.8517\n",
            "n_components = 40 --> Accuracy: 0.8500\n",
            "n_components = 50 --> Accuracy: 0.8367\n",
            "n_components = 60 --> Accuracy: 0.8417\n"
          ]
        }
      ]
    },
    {
      "cell_type": "code",
      "source": [],
      "metadata": {
        "id": "m8uvsGwB52en"
      },
      "execution_count": null,
      "outputs": []
    }
  ]
}