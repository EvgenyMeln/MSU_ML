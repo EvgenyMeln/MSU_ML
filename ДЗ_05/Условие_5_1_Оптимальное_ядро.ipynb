{
  "nbformat": 4,
  "nbformat_minor": 0,
  "metadata": {
    "colab": {
      "provenance": []
    },
    "kernelspec": {
      "name": "python3",
      "display_name": "Python 3"
    },
    "language_info": {
      "name": "python"
    }
  },
  "cells": [
    {
      "cell_type": "markdown",
      "source": [
        "# Оптимальное ядро\n",
        "\n",
        "Ваша задача - подобрать оптимальное ядро для решения задачи классификации датасета `breast cancer` при помощи алгоритма `SVC`. Заполните шаблон кода, приведённый ниже, и выберите оптимальное ядро при фиксированных остальных гиперпараметрах.\n",
        "\n",
        "Значения других гиперпараметров:\n",
        "\n",
        "* C = 1.0\n",
        "* degree (для полиномиального ядра) = 2\n",
        "* gamma = 'auto'\n",
        "* random_state = 42\n",
        "\n",
        "Ядра, которые слеедует попробовать: линейное, полиномиальное, радиальное, сигмоидальное.\n",
        "\n",
        "В качестве ответа укажите строковое название наилучшего ядра без кавычек и других дополнительных символов в нижнем регистре. Имеется в виду название, которое Вы передаёте в аргумент SVC (то есть, например, не `полиномиальное`, а `poly`)\n",
        "\n",
        "Для проверки качества решения задачи используйте `accuracy` с применением разбиения выборки на train и test с параметром `test_size=0.2` и `random_state=42`.\n",
        "\n",
        "Не забудьте об использовании `StandardScaler`"
      ],
      "metadata": {
        "id": "tttQs1_6kJ5c"
      }
    },
    {
      "cell_type": "code",
      "source": [
        "import numpy as np\n",
        "from sklearn import datasets\n",
        "from sklearn.svm import SVC\n",
        "from sklearn.preprocessing import StandardScaler\n",
        "from sklearn.model_selection import train_test_split\n",
        "\n",
        "\n",
        "data = datasets.load_breast_cancer()\n",
        "X, y = data.data, data.target\n",
        "\n",
        "X_train, X_test, y_train, y_test = # Разбейте выборку на train и test\n",
        "\n",
        "\"\"\"\n",
        "Обучите и примените StandardScaler\n",
        "\"\"\"\n",
        "\n",
        "def compare_svm_kernels(X_train, X_test, y_train, y_test):\n",
        "    \"\"\"\n",
        "      Напишите функцию, определяющую наилучшее ядро для решения данной задачи\n",
        "    \"\"\"\n",
        "\n",
        "compare_svm_kernels(X_train, X_test, y_train, y_test)"
      ],
      "metadata": {
        "id": "LwwrTz0BkL5r"
      },
      "execution_count": null,
      "outputs": []
    }
  ]
}