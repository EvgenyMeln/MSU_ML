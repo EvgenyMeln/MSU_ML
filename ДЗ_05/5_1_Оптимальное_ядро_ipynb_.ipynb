{
  "nbformat": 4,
  "nbformat_minor": 0,
  "metadata": {
    "colab": {
      "provenance": []
    },
    "kernelspec": {
      "name": "python3",
      "display_name": "Python 3"
    },
    "language_info": {
      "name": "python"
    }
  },
  "cells": [
    {
      "cell_type": "markdown",
      "source": [
        "# Оптимальное ядро\n",
        "\n",
        "Ваша задача - подобрать оптимальное ядро для решения задачи классификации датасета `breast cancer` при помощи алгоритма `SVC`. Заполните шаблон кода, приведённый ниже, и выберите оптимальное ядро при фиксированных остальных гиперпараметрах.\n",
        "\n",
        "Значения других гиперпараметров:\n",
        "\n",
        "* C = 1.0\n",
        "* degree (для полиномиального ядра) = 2\n",
        "* gamma = 'auto'\n",
        "* random_state = 42\n",
        "\n",
        "Ядра, которые слеедует попробовать: линейное, полиномиальное, радиальное, сигмоидальное.\n",
        "\n",
        "В качестве ответа укажите строковое название наилучшего ядра без кавычек и других дополнительных символов в нижнем регистре. Имеется в виду название, которое Вы передаёте в аргумент SVC (то есть, например, не `полиномиальное`, а `poly`)\n",
        "\n",
        "Для проверки качества решения задачи используйте `accuracy` с применением разбиения выборки на train и test с параметром `test_size=0.2` и `random_state=42`.\n",
        "\n",
        "Не забудьте об использовании `StandardScaler`"
      ],
      "metadata": {
        "id": "tttQs1_6kJ5c"
      }
    },
    {
      "cell_type": "code",
      "source": [
        "import numpy as np\n",
        "from sklearn import datasets\n",
        "from sklearn.svm import SVC\n",
        "from sklearn.preprocessing import StandardScaler\n",
        "from sklearn.model_selection import train_test_split\n",
        "from sklearn.metrics import accuracy_score\n",
        "\n",
        "np.random.seed(42)\n",
        "\n",
        "data = datasets.load_breast_cancer()\n",
        "X, y = data.data, data.target\n",
        "\n",
        "X_train, X_test, y_train, y_test = train_test_split(X, y, test_size=0.2, shuffle=True, random_state=42) # Разбейте выборку на train и test\n",
        "\n",
        "\"\"\"\n",
        "Обучите и примените StandardScaler\n",
        "\"\"\"\n",
        "scaler = StandardScaler()\n",
        "X_train_scaled = scaler.fit_transform(X_train)\n",
        "X_test_scaled = scaler.transform(X_test)\n",
        "\n",
        "clf_lin = SVC(kernel=\"linear\", C=1.0, random_state=42)\n",
        "clf_poly = SVC(C=1.0, kernel='poly', degree=2, gamma='auto')\n",
        "clf_rbf = SVC(gamma='auto', C=1.0, random_state=42)\n",
        "clf_sigmoid = SVC(C=1.0, kernel='sigmoid', degree=3, gamma='auto')\n",
        "\n",
        "clf_lin.fit(X_train_scaled, y_train)\n",
        "preds_lin = clf_lin.predict(X_test_scaled)\n",
        "\n",
        "clf_poly.fit(X_train_scaled, y_train)\n",
        "preds_poly = clf_poly.predict(X_test_scaled)\n",
        "\n",
        "clf_rbf.fit(X_train_scaled, y_train)\n",
        "preds_rbf = clf_rbf.predict(X_test_scaled)\n",
        "\n",
        "clf_sigmoid.fit(X_train_scaled, y_train)\n",
        "preds_sigmoid = clf_sigmoid.predict(X_test_scaled)\n",
        "\n",
        "acc_lin = accuracy_score(y_test, preds_lin)\n",
        "acc_poly = accuracy_score(y_test, preds_poly)\n",
        "acc_rbf = accuracy_score(y_test, preds_rbf)\n",
        "acc_sigmoid = accuracy_score(y_test, preds_sigmoid)\n",
        "\n",
        "print(acc_lin)\n",
        "print(acc_poly)\n",
        "print(acc_rbf)\n",
        "print(acc_sigmoid)\n",
        "\n",
        "def compare_svm_kernels(X_train, X_test, y_train, y_test):\n",
        "    \"\"\"\n",
        "      Напишите функцию, определяющую наилучшее ядро для решения данной задачи\n",
        "    \"\"\"\n",
        "\n",
        "#compare_svm_kernels(X_train, X_test, y_train, y_test)"
      ],
      "metadata": {
        "id": "LwwrTz0BkL5r",
        "outputId": "4bb9f8cf-8f44-47bc-96d8-ba78a57d4ec4",
        "colab": {
          "base_uri": "https://localhost:8080/"
        }
      },
      "execution_count": null,
      "outputs": [
        {
          "output_type": "stream",
          "name": "stdout",
          "text": [
            "0.956140350877193\n",
            "0.8070175438596491\n",
            "0.9824561403508771\n",
            "0.956140350877193\n"
          ]
        }
      ]
    }
  ]
}