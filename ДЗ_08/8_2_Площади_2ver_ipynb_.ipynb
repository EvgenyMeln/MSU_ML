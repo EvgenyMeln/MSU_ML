{
  "nbformat": 4,
  "nbformat_minor": 0,
  "metadata": {
    "colab": {
      "provenance": []
    },
    "kernelspec": {
      "name": "python3",
      "display_name": "Python 3"
    },
    "language_info": {
      "name": "python"
    }
  },
  "cells": [
    {
      "cell_type": "markdown",
      "source": [
        "# 8.2. Площади\n",
        "\n",
        "В этой задаче Вам требуется сравнить значения метрик для 4 различных алгоритмов. Для этого отредактируйте следующий код так, чтобы он соответствовал сформулированному заданию."
      ],
      "metadata": {
        "id": "3gwOwJTzuYfl"
      }
    },
    {
      "cell_type": "code",
      "execution_count": null,
      "metadata": {
        "id": "rjX6v8Y8uImZ",
        "outputId": "44652d47-3678-48b5-8765-e4d9b30a47b7",
        "colab": {
          "base_uri": "https://localhost:8080/"
        }
      },
      "outputs": [
        {
          "output_type": "stream",
          "name": "stdout",
          "text": [
            "0.7043046357615894 0.7980132450331127 0.7504552980132451 0.7973509933774834\n",
            "0.6819480519480519 0.6639162986466747 0.5876288276242685 0.646433465148704\n"
          ]
        }
      ],
      "source": [
        "from sklearn.datasets import fetch_openml\n",
        "from sklearn.model_selection import train_test_split\n",
        "from sklearn.neighbors import KNeighborsClassifier\n",
        "from sklearn.linear_model import LogisticRegression\n",
        "from sklearn.tree import DecisionTreeClassifier\n",
        "from sklearn.svm import SVC\n",
        "from sklearn.preprocessing import StandardScaler\n",
        "\"\"\"\n",
        "TODO: make additional imports here\n",
        "\"\"\"\n",
        "from sklearn.metrics import auc, precision_recall_curve, roc_auc_score\n",
        "\n",
        "data = fetch_openml(data_id=42608)\n",
        "X, y = data['data'].drop(columns='Outcome').values, data['data']['Outcome'].astype(int).values\n",
        "\n",
        "X_train, x_test, y_train, y_test = train_test_split(\n",
        "    X, y, test_size=0.3, random_state=42\n",
        ")\n",
        "\n",
        "scaler = StandardScaler()\n",
        "X_train_scaled = scaler.fit_transform(X_train)\n",
        "X_test_scaled = scaler.transform(x_test)\n",
        "\n",
        "\"\"\"\n",
        "In the following part of code specify algorithms with their own parameters by yourself\n",
        "\"\"\"\n",
        "tree = DecisionTreeClassifier(random_state = 42)\n",
        "lr = LogisticRegression(random_state = 42)\n",
        "knn = KNeighborsClassifier(n_neighbors = 5)\n",
        "svm = SVC(probability = True, random_state = 42)\n",
        "\n",
        "\"\"\"\n",
        "TODO: fit estimators and find best one\n",
        "\"\"\"\n",
        "tree.fit(X_train_scaled, y_train)\n",
        "lr.fit(X_train_scaled, y_train)\n",
        "knn.fit(X_train_scaled, y_train)\n",
        "svm.fit(X_train_scaled, y_train)\n",
        "\n",
        "#tree\n",
        "y_pred_proba = tree.predict_proba(X_test_scaled)[:, 1]\n",
        "roc_auc_scores_tree = roc_auc_score(y_test, y_pred_proba)\n",
        "\n",
        "precision, recall, _ = precision_recall_curve(y_test, y_pred_proba)\n",
        "pr_auc_scores_tree = auc(recall, precision)\n",
        "\n",
        "#lr\n",
        "y_pred_proba = lr.predict_proba(X_test_scaled)[:, 1]\n",
        "roc_auc_scores_lr = roc_auc_score(y_test, y_pred_proba)\n",
        "\n",
        "precision, recall, _ = precision_recall_curve(y_test, y_pred_proba)\n",
        "pr_auc_scores_lr = auc(recall, precision)\n",
        "\n",
        "#knn\n",
        "y_pred_proba = knn.predict_proba(X_test_scaled)[:, 1]\n",
        "roc_auc_scores_knn = roc_auc_score(y_test, y_pred_proba)\n",
        "\n",
        "precision, recall, _ = precision_recall_curve(y_test, y_pred_proba)\n",
        "pr_auc_scores_knn = auc(recall, precision)\n",
        "\n",
        "#svm\n",
        "y_pred_proba = svm.predict_proba(X_test_scaled)[:, 1]\n",
        "roc_auc_scores_svm = roc_auc_score(y_test, y_pred_proba)\n",
        "\n",
        "precision, recall, _ = precision_recall_curve(y_test, y_pred_proba)\n",
        "pr_auc_scores_svm = auc(recall, precision)\n",
        "\n",
        "print(roc_auc_scores_tree, roc_auc_scores_lr, roc_auc_scores_knn, roc_auc_scores_svm)\n",
        "print(pr_auc_scores_tree, pr_auc_scores_lr, pr_auc_scores_knn, pr_auc_scores_svm)\n"
      ]
    },
    {
      "cell_type": "markdown",
      "source": [
        "## Примечания\n",
        "\n",
        "1. Обратите внимание, что StandardScaler может влиять на результаты работы алгоритмов. Поэтому рекомендуем его использовать.\n",
        "\n",
        "2. Когда мы разбиваем данные на train и test, мы должны понимать, что **все** алгоритмы должны обучаться **только на train**. Test при обучении **не используется**. Более того, в реальной жизни мы вообще ничего не знаем про test. Поэтому StandardScaler нужно обучать только на X_train, а к X_test делать только transform (**не** fit_transform)."
      ],
      "metadata": {
        "id": "PMPsE9S9N-nv"
      }
    }
  ]
}