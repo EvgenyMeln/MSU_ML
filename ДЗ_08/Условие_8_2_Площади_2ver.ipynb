{
  "nbformat": 4,
  "nbformat_minor": 0,
  "metadata": {
    "colab": {
      "provenance": []
    },
    "kernelspec": {
      "name": "python3",
      "display_name": "Python 3"
    },
    "language_info": {
      "name": "python"
    }
  },
  "cells": [
    {
      "cell_type": "markdown",
      "source": [
        "# 8.2. Площади\n",
        "\n",
        "В этой задаче Вам требуется сравнить значения метрик для 4 различных алгоритмов. Для этого отредактируйте следующий код так, чтобы он соответствовал сформулированному заданию."
      ],
      "metadata": {
        "id": "3gwOwJTzuYfl"
      }
    },
    {
      "cell_type": "code",
      "execution_count": null,
      "metadata": {
        "id": "rjX6v8Y8uImZ"
      },
      "outputs": [],
      "source": [
        "from sklearn.datasets import fetch_openml\n",
        "from sklearn.model_selection import train_test_split\n",
        "from sklearn.neighbors import KNeighborsClassifier\n",
        "from sklearn.linear_model import LogisticRegression\n",
        "from sklearn.tree import DecisionTreeClassifier\n",
        "from sklearn.svm import SVC\n",
        "from sklearn.preprocessing import StandardScaler\n",
        "\"\"\"\n",
        "TODO: make additional imports here\n",
        "\"\"\"\n",
        "\n",
        "data = fetch_openml(data_id=42608)\n",
        "X, y = data['data'].drop(columns='Outcome').values, data['data']['Outcome'].astype(int).values\n",
        "\n",
        "X_train, x_test, y_train, y_test = train_test_split(\n",
        "    X, y, test_size=0.3, random_state=42\n",
        ")\n",
        "\n",
        "\"\"\"\n",
        "In the following part of code specify algorithms with their own parameters by yourself\n",
        "\"\"\"\n",
        "tree = DecisionTreeClassifier()\n",
        "lr = LogisticRegression()\n",
        "knn = KNeighborsClassifier()\n",
        "svm = SVC(probability=True)\n",
        "\n",
        "\"\"\"\n",
        "TODO: fit estimators and find best one\n",
        "\"\"\"\n"
      ]
    },
    {
      "cell_type": "markdown",
      "source": [
        "## Примечания\n",
        "\n",
        "1. Обратите внимание, что StandardScaler может влиять на результаты работы алгоритмов. Поэтому рекомендуем его использовать.\n",
        "\n",
        "2. Когда мы разбиваем данные на train и test, мы должны понимать, что **все** алгоритмы должны обучаться **только на train**. Test при обучении **не используется**. Более того, в реальной жизни мы вообще ничего не знаем про test. Поэтому StandardScaler нужно обучать только на X_train, а к X_test делать только transform (**не** fit_transform)."
      ],
      "metadata": {
        "id": "PMPsE9S9N-nv"
      }
    }
  ]
}